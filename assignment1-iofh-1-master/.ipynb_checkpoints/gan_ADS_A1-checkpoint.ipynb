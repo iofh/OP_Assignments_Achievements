{
 "cells": [
  {
   "cell_type": "markdown",
   "metadata": {},
   "source": [
    "<div align=\"right\"><sub>Advanced Algorithms, Semester 2, 2020</sub>\n",
    "</div>\n",
    "\n",
    "\n",
    "# Assessment 1\n",
    "Due Date: Friday, September 4th, 5pm.\n",
    "\n",
    "Value: 25% of course mark\n",
    "\n",
    "Every numbered task is worth 1 mark.\n",
    "\n",
    "---\n",
    "\n",
    "\n",
    "##### Learning outcomes\n",
    "- <font size=\"1\">Critically evaluate the ecosystem of algorithmic tools available to solve complex computational problems in a variety of disciplines.</font>\n",
    "- <font size=\"1\">Choose and implement state-of-the-art algorithms and data structures solutions for a variety of computational problems.</font>\n",
    "- <font size=\"1\">Critically judge algorithmic performance and push for optimization of computational resources.</font>"
   ]
  },
  {
   "cell_type": "markdown",
   "metadata": {},
   "source": [
    "## Algorithm Analysis\n",
    "\n",
    "<ol start=\"1\">\n",
    "\n",
    "<li>\n",
    "Carry out an experiment to evaluate the running time of the `contains` operation (as in: `variable in containerDataStructure`) in the `set` and the `tuple` container data structures of Python and plot the results of your analysis. What is the order of growth of the `contains` operation in the `set` Python data structure?\n",
    "</li></ol>"
   ]
  },
  {
   "cell_type": "code",
   "execution_count": null,
   "metadata": {},
   "outputs": [],
   "source": [
    "%matplotlib inline\n",
    "import timeit\n",
    "import random\n",
    "\n",
    "\n",
    "tcList = []\n",
    "scList = []\n",
    "print('{:>12} {:>12} {:>12}'.format('size','tuple','set'))    \n",
    "listSizeStart = 10000\n",
    "listSizeEnd = 1000001\n",
    "stepSize = 100000\n",
    "for i in range(listSizeStart,listSizeEnd,stepSize):\n",
    "    t = timeit.Timer(\"random.randrange(%d) in x\"%i,\"from __main__ import random,x\")\n",
    "    x = tuple(range(i)) #Create a tuple\n",
    "    tup_time = t.timeit(number=1000)\n",
    "    tcList.append(tup_time)\n",
    "    x = {j for j in range(i)} #Create a set\n",
    "    set_time = t.timeit(number=1000)\n",
    "    scList.append(set_time)\n",
    "    print(\"%12d,%12.3f,%12.3f\" % (i, tup_time, set_time))"
   ]
  },
  {
   "cell_type": "code",
   "execution_count": null,
   "metadata": {},
   "outputs": [],
   "source": [
    "import matplotlib.pyplot as plt\n",
    "\n",
    "# b+ is for \"blue cross\"\n",
    "plt.plot(range(listSizeStart,listSizeEnd,stepSize), tcList, 'b+', label='tuple')\n",
    "# \"bo\" is for \"blue dot\"\n",
    "plt.plot(range(listSizeStart,listSizeEnd,stepSize), scList, 'bo', label='set')\n",
    "plt.ylabel('Time (in seconds) to to complete contains operation')\n",
    "plt.xlabel('Size of list or dictionary')\n",
    "plt.legend()\n",
    "plt.xticks(range(listSizeStart,listSizeEnd,stepSize))\n",
    "plt.xticks(rotation=50)\n",
    "plt.show()\n",
    "\n",
    "#The order of growth of the contains operation in the set is o(1)"
   ]
  },
  {
   "cell_type": "markdown",
   "metadata": {},
   "source": [
    "## Differential calculus\n",
    "\n",
    "Imagine that New Zealand had a single tax rate for income. That is, everyone would pay the same tax rate regardless of how much money they make. Let's also assume that the total government revenue from taxable income (i.e. how much the government coffers collect from taxes) is well modeled by a function $f(x)$ of the taxable rate ($x$) parameterized as: \n",
    "\n",
    "$$\\large f(x)=1000 \\times 2.71^{(\\frac{-(0.8x-30)^2}{2\\times 0.1^2})}$$\n",
    "\n",
    "Once again, that function describes how much money the government collects $f(x)$ as a function of a numerical tax rate $x$.\n",
    "\n",
    "Let's plot the function $f(x)$:"
   ]
  },
  {
   "cell_type": "code",
   "execution_count": null,
   "metadata": {},
   "outputs": [],
   "source": [
    "import numpy as np\n",
    "import matplotlib.pyplot as plt \n",
    "\n",
    "\n",
    "def f(x):\n",
    "    #return -(1.01*x-10)**2 +82*x+100\n",
    "    return 1000*2.71**(-(0.8*x-30)**2/2*0.1**2)\n",
    "\n",
    "\n",
    "x = np.linspace(0,100, 256, endpoint=True)\n",
    "y=f(x)\n",
    "plt.axhline(linewidth=1,color = 'black')\n",
    "plt.axvline(linewidth=1,color = 'black')\n",
    "plt.ylabel('Government revenue')\n",
    "plt.xlabel('Tax rate')\n",
    "\n",
    "plt.show(plt.plot(x,y)) "
   ]
  },
  {
   "cell_type": "markdown",
   "metadata": {},
   "source": [
    "So in this imaginary scenario, it is easy to convince yourself that if the government would tax its citizens a 0% tax rate, it wouldn't collect any tax revenue. Look at the figure above to make sure you understand why this is the case. Arguably, if the government would tax an outrageous amount like for example 100% of your income, presumably no one would bother to work since the entire paycheck would be taken away by government in the form of taxes, so the government would also collect 0 revenue. \n",
    "\n",
    "Your task in this exercise is to:\n",
    "\n",
    "<ol start=\"2\">\n",
    "\n",
    "<li>\n",
    "Find out the appropriate tax rate that the New Zealand government should apply on its citizens in order to **maximize** its revenue using the tools of the `sympy` package for symbolic differentiation and for finding the roots/solutions of polynomial functions. \n",
    "</li></ol>\n",
    "\n",
    "Obviously, this is a silly exercise since you can look at the plot above and figure out that the optimal tax rate would be around 40%. In the real world, models of reality are often multivariate, they depend on several independent variables, where perhaps $f(x, y, z, h)$ models government revenue as a function of $x$ (tax rate), $y$ (GDP growth), $z$ (inflation) and $h$ (unemployment rate). With such multivariate functions, you cannot look at a plot of the function since we cannot visualize functions in more than three dimensions. Hence, we need to optimize the function using algorithms for either symbolic differentiation or numerical differentiation. For this exercise, symbolic differentiation should suffice."
   ]
  },
  {
   "cell_type": "code",
   "execution_count": null,
   "metadata": {},
   "outputs": [],
   "source": [
    "from sympy import roots, solve, symbols,diff\n",
    "a=symbols('a')\n",
    "func=1000*2.71**(-(0.8*a-30)**2/2*0.1**2)\n",
    "df = diff(func,a)\n",
    "df"
   ]
  },
  {
   "cell_type": "code",
   "execution_count": null,
   "metadata": {},
   "outputs": [],
   "source": [
    "tax = solve(df)\n",
    "print(f\"the suitable tax rate to maximize revenue is {tax}\")"
   ]
  },
  {
   "cell_type": "markdown",
   "metadata": {},
   "source": [
    "## Numerical integration\n",
    "\n",
    "<ol start=\"3\">\n",
    "<li>\n",
    "Let's say the following curve simulates the rate of change of trade deficits (or surpluses) in New Zealand over a 6 years time period. A trade deficit occurs when the amount of imports exceeds the amount of exports in a country). Using a numerical integration algorithm available in the `scipy` module, calculate the total volume of trade surplus from year 1 to year 3. That is, calculate the area under the curve $3(x-3)^3+(x-3)^2-10(x-3)$ from $x=1$ to $x=3$ using a numerical method.\n",
    "</li></ol>"
   ]
  },
  {
   "cell_type": "code",
   "execution_count": null,
   "metadata": {},
   "outputs": [],
   "source": [
    "%matplotlib inline\n",
    "import matplotlib.pyplot as plt\n",
    "import numpy as np\n",
    "\n",
    "def f(x):\n",
    "    return 3*(x-3)**3+(x-3)**2-10*(x-3)\n",
    "\n",
    "\n",
    "x=np.linspace(0, 6)\n",
    "plt.axhline(linewidth=1,color = 'black')\n",
    "plt.axvline(linewidth=1,color = 'black')\n",
    "plt.xlabel('Years')\n",
    "plt.ylabel('Trade surplus/deficit')\n",
    "plt.plot(x,f(x)) #Plot f(x)"
   ]
  },
  {
   "cell_type": "code",
   "execution_count": null,
   "metadata": {},
   "outputs": [],
   "source": [
    "from scipy.integrate import quad\n",
    "i=quad(f,1,3)\n",
    "print(f'The total volume of trade surplus from year 1 to 3 is {i[0]}')"
   ]
  },
  {
   "cell_type": "markdown",
   "metadata": {},
   "source": [
    "## Differential equations\n",
    "\n",
    "Differential equations can be used to simulate/model all sorts of physical systems. In computational neuroscience, models of neural firing are used to simulate biological neurons in silico.\n",
    "\n",
    "A biological neuron communicates with other neurons by electrical impulses called action potentials or spikes. For example, the following figure shows the voltage of a neuron over time. Notice the existence of 6 action potentials (spikes), that is how a neuron communicates with other neurons with which it is connected via synapses. \n",
    "\n",
    "![](./images/nf.gif)\n",
    "A popular algorithmic for simulating the spiking activity of a neuron is the Eugene Izhikevich model."
   ]
  },
  {
   "cell_type": "markdown",
   "metadata": {},
   "source": [
    "For this exercise, you need to read only the first page of the following scientific paper: [IzhikevichModel](./resources/IzhikevichModel.pdf). Don't worry about the technical details. But you need to understand the paper enough in order to extract the key 2 differential equations that govern the behavior of the rate of change of the voltage $\\large \\frac{dv}{dt}$ and the rate of change of the neuron's membrane recovery variable $\\large \\frac{du}{dt}$. \n",
    "<ol start=\"4\">\n",
    "\n",
    "<li>\n",
    "Insert the $\\large \\frac{dv}{dt}$ and $\\large \\frac{du}{dt}$ equations in the proper locations in the code snippet below, and you should get a working model of a spiking neuron. For the constants $a$ and $b$ used the parameters suggested by the paper. Below the code snippet, I provide a visual representation of simulation output you should get if you complete the implementation of the model.\n",
    "</li> </ol>"
   ]
  },
  {
   "cell_type": "code",
   "execution_count": null,
   "metadata": {},
   "outputs": [],
   "source": [
    "from numpy import* \n",
    "from pylab import*\n",
    "# simulating the Eugene Izhikevich model \n",
    "\n",
    "\n",
    "def funca(v,u,I):\n",
    "    return 0.04*v**2+5*v+140-u+I \n",
    "    \n",
    "def funcb(v,u):\n",
    "    return 0.02*(0.2*v-u) \n",
    "    \n",
    "t_sim = 100 # simulation time \n",
    "dt = 0.25 #time step \n",
    "time = arange(0,t_sim,dt) \n",
    "V = zeros(len(time))\n",
    "U = zeros(len(time))\n",
    "V[0] = -70\n",
    "U[0] = 0.2*V[0]\n",
    "T1 = 1\n",
    "for i in range(1,380):\n",
    "    if i < 350:\n",
    "        I = 14 \n",
    "    else:\n",
    "        I = 0\n",
    "    V[i] = V[i-1] + dt*funca(V[i-1],U[i-1],I)\n",
    "    U[i] = U[i-1] + dt*funcb(V[i-1],U[i-1])\n",
    "    #print(\"%f\" % V[i])\n",
    "    if (V[i] >= 30):\n",
    "        V[i] = -65 \n",
    "        U[i] = U[i] + 6\n",
    "    \n",
    "            \n",
    "plot(time, V )\n",
    "title('Izhikevich Model')\n",
    "ylabel('Membrane Potential (V)')\n",
    "xlabel\n",
    "show() "
   ]
  },
  {
   "cell_type": "markdown",
   "metadata": {},
   "source": [
    "![](./images/im.png)"
   ]
  },
  {
   "cell_type": "markdown",
   "metadata": {},
   "source": [
    "## Linear data structures\n",
    "\n",
    "\n",
    "<ol start=\"5\">\n",
    "\n",
    "<li>\n",
    "Observe the following visual representation of an algorithm that converts a number in base 10 into its binary representation. Notice the <b>sequence</b> of computational outputs generated. Implement this algorithm using the proper linear data structure.\n",
    "</li> </ol>\n",
    "\n",
    "<img src=\"./images/lds1.png\" width=30%/>"
   ]
  },
  {
   "cell_type": "code",
   "execution_count": null,
   "metadata": {},
   "outputs": [],
   "source": [
    "class Stack:\n",
    "    def __init__(self):\n",
    "        self.items = []\n",
    "\n",
    "    def is_empty(self):\n",
    "        return self.items == []\n",
    "\n",
    "    def push(self, item):\n",
    "        self.items.append(item)\n",
    "\n",
    "    def pop(self):\n",
    "        return self.items.pop()\n",
    "\n",
    "    def peek(self):\n",
    "        return self.items[len(self.items)-1]\n",
    "\n",
    "    def size(self):\n",
    "        return len(self.items)"
   ]
  },
  {
   "cell_type": "code",
   "execution_count": null,
   "metadata": {},
   "outputs": [],
   "source": [
    "def decimal_to_binary_stack(decimal_number):\n",
    "    remainder_stack = Stack()\n",
    "    binary_string = \"\"\n",
    "    \n",
    "    while decimal_number > 0:\n",
    "        rem = decimal_number % 2\n",
    "        remainder_stack.push(rem)\n",
    "        decimal_number = decimal_number // 2\n",
    "    \n",
    "    while not remainder_stack.is_empty():\n",
    "        binary_string = binary_string + str(remainder_stack.pop())\n",
    "    \n",
    "    return binary_string\n",
    "    \n",
    "print(decimal_to_binary_stack(58))\n"
   ]
  },
  {
   "cell_type": "markdown",
   "metadata": {},
   "source": [
    "<ol start=\"6\">\n",
    "<li>\n",
    "Implement a Queue data structure where enqueueing an element takes $O(1)$ time and removing an element from the front of the queue takes $O(n)$. Empirically prove that this is the case using an experimental simulation and plot the results.\n",
    "</li> </ol>"
   ]
  },
  {
   "cell_type": "code",
   "execution_count": null,
   "metadata": {},
   "outputs": [],
   "source": [
    "class Queue:\n",
    "    def __init__(self):\n",
    "        self.items = []\n",
    "\n",
    "    def isEmpty(self):\n",
    "        return self.items == []\n",
    "\n",
    "    def enqueue(self, item):\n",
    "        self.items.append(item)\n",
    "\n",
    "    def dequeue(self):\n",
    "        return self.items.pop(0)\n",
    "\n",
    "    def size(self):\n",
    "        return len(self.items)\n",
    "\n",
    "        \n",
    "def enqueue_items(size,queue):\n",
    "    for i in range(size):\n",
    "        queue.enqueue(i)\n",
    "        \n",
    "def dequeue_items(size,queue):\n",
    "    for i in range(size):\n",
    "        queue.dequeue()"
   ]
  },
  {
   "cell_type": "code",
   "execution_count": null,
   "metadata": {},
   "outputs": [],
   "source": [
    "import timeit\n",
    "import random\n",
    "\n",
    "enqueue_list=[]\n",
    "dequeue_list=[]\n",
    "\n",
    "listSizeStart = 1000\n",
    "listSizeEnd = 100001\n",
    "stepSize = 10000\n",
    "for i in range(listSizeStart,listSizeEnd,stepSize):\n",
    "    q=Queue()    \n",
    "    starttime = timeit.default_timer()\n",
    "    enqueue_items(i,q)\n",
    "    enqueue_time= timeit.default_timer() - starttime\n",
    "    enqueue_list.append(enqueue_time)\n",
    "    \n",
    "    starttime = timeit.default_timer()\n",
    "    dequeue_items(i,q)\n",
    "    dequeue_time= timeit.default_timer() - starttime\n",
    "    dequeue_list.append(dequeue_time)\n",
    "\n",
    "    print(f'Enqueue Time:{enqueue_time}, Dequeue Time:{dequeue_time}')"
   ]
  },
  {
   "cell_type": "code",
   "execution_count": null,
   "metadata": {},
   "outputs": [],
   "source": [
    "import matplotlib.pyplot as plt\n",
    "\n",
    "# b+ is for \"blue cross\"\n",
    "plt.plot(range(listSizeStart,listSizeEnd,stepSize), enqueue_list, 'b+', label='enqueue')\n",
    "# \"bo\" is for \"blue dot\"\n",
    "plt.plot(range(listSizeStart,listSizeEnd,stepSize), dequeue_list, 'bo', label='dequeue')\n",
    "plt.ylabel('Time (in seconds) to to complete contains operation')\n",
    "plt.xlabel('Size of queue')\n",
    "plt.legend()\n",
    "plt.xticks(range(listSizeStart,listSizeEnd,stepSize))\n",
    "plt.xticks(rotation=50)\n",
    "plt.show()"
   ]
  },
  {
   "cell_type": "markdown",
   "metadata": {},
   "source": [
    "<ol start=\"7\">\n",
    "<li>\n",
    "<b>(Hard)</b> Implement a Queue using just 2 instances of the provided Stack Data structure. That is, you're not allowed to use a list or any other data structure beyond the Stack, to implement your queue.\n",
    "</li> </ol>"
   ]
  },
  {
   "cell_type": "code",
   "execution_count": null,
   "metadata": {},
   "outputs": [],
   "source": [
    "class InstanceQueue:\n",
    "    def __init__(self):\n",
    "        self.stack1 = Stack()\n",
    "        self.stack2 = Stack()\n",
    "\n",
    "    def is_empty(self):\n",
    "        return self.stack1.items == []\n",
    "\n",
    "    def enqueue(self, item):\n",
    "        self.stack1.push(item)\n",
    "\n",
    "    def dequeue(self):\n",
    "        if self.stack2.is_empty():\n",
    "            while not self.stack1.is_empty():\n",
    "                self.stack2.push(self.stack1.pop())\n",
    "        return self.stack2.pop()\n",
    "\n",
    "    def size(self):\n",
    "        return len(self.stack1.items)\n",
    "\n",
    "iq=InstanceQueue()\n",
    "print(iq.is_empty())\n",
    "print(iq.enqueue(4.5))\n",
    "print(iq.enqueue('dog'))\n",
    "print(iq.enqueue(True))\n",
    "print(iq.enqueue(8.4))\n",
    "print(iq.size())\n",
    "print(iq.dequeue())\n",
    "print(iq.dequeue())\n",
    "print(iq.dequeue())\n",
    "print(iq.dequeue())\n"
   ]
  },
  {
   "cell_type": "markdown",
   "metadata": {},
   "source": [
    "## Linked list\n",
    "\n",
    "<ol start=\"8\">\n",
    "<li>\n",
    "Add an `append` method to the `UnorderedList` data structure studied in class and modify the class accordingly so the `append` method has time complexity $O(1)$ and its implementation doesn't break the linked list structure and functionality. \n",
    "</li> </ol>"
   ]
  },
  {
   "cell_type": "code",
   "execution_count": null,
   "metadata": {},
   "outputs": [],
   "source": [
    "class Node:\n",
    "    def __init__(self,initdata):\n",
    "        self.data = initdata\n",
    "        self.next = None\n",
    "\n",
    "    def getData(self):\n",
    "        return self.data\n",
    "\n",
    "    def getNext(self):\n",
    "        return self.next\n",
    "\n",
    "    def setData(self,newdata):\n",
    "        self.data = newdata\n",
    "\n",
    "    def setNext(self,newnext):\n",
    "        self.next = newnext\n",
    "        \n"
   ]
  },
  {
   "cell_type": "code",
   "execution_count": null,
   "metadata": {},
   "outputs": [],
   "source": [
    "class UnorderedList:\n",
    "    def __init__(self):\n",
    "        self.head = None\n",
    "        self.tail = None\n",
    "        \n",
    "    def isEmpty(self):\n",
    "        return self.head == None\n",
    "\n",
    "    def add(self,item):\n",
    "        temp = Node(item)\n",
    "        if self.head == None:\n",
    "            self.tail = temp\n",
    "        temp.setNext(self.head)\n",
    "        self.head = temp\n",
    "        \n",
    "    def gettail(self):\n",
    "        return self.tail\n",
    "        \n",
    "    def append(self,item):\n",
    "        if self.tail == None:\n",
    "            self.add(item)\n",
    "        else:\n",
    "            current_tail = self.tail\n",
    "            new_tail = Node(item)\n",
    "            current_tail.setNext(new_tail)\n",
    "            self.tail = new_tail\n",
    "        \n",
    "    def size(self):\n",
    "        current = self.head\n",
    "        count = 0\n",
    "        while current != None:\n",
    "            print(str(current))\n",
    "            count = count + 1\n",
    "            current = current.getNext()   \n",
    "        return count\n",
    "    \n",
    "    \n",
    "    def search(self,item):\n",
    "        current = self.head\n",
    "        found = False\n",
    "        while current != None and not found:\n",
    "            if current.getData() == item:\n",
    "                found = True\n",
    "            else:\n",
    "                current = current.getNext()\n",
    "        return found\n",
    "    \n",
    "    def remove(self,item):\n",
    "        current = self.head\n",
    "        previous = None\n",
    "        found = False\n",
    "        while not found:\n",
    "            if current.getData() == item:\n",
    "                found = True\n",
    "            else:\n",
    "                previous = current\n",
    "                current = current.getNext()\n",
    "    \n",
    "        if previous == None:\n",
    "            self.head = current.getNext()\n",
    "        else:\n",
    "            previous.setNext(current.getNext())"
   ]
  },
  {
   "cell_type": "code",
   "execution_count": null,
   "metadata": {},
   "outputs": [],
   "source": [
    "uo = UnorderedList()\n",
    "uo.add(1)\n",
    "uo.add(2)\n",
    "uo.add(3)\n",
    "uo.size()"
   ]
  },
  {
   "cell_type": "code",
   "execution_count": null,
   "metadata": {},
   "outputs": [],
   "source": [
    "uo.append(4)\n",
    "uo.size()"
   ]
  },
  {
   "cell_type": "code",
   "execution_count": null,
   "metadata": {
    "scrolled": false
   },
   "outputs": [],
   "source": [
    "uo.add(3)\n",
    "uo.size()"
   ]
  },
  {
   "cell_type": "markdown",
   "metadata": {},
   "source": [
    "## Recursion"
   ]
  },
  {
   "cell_type": "markdown",
   "metadata": {},
   "source": [
    "<ol start=\"9\">\n",
    "<li>\n",
    "Let's say you want to create an algorithm that counts the number of ways in which you can go up n steps in a staircase.  Let's assume that you can take a single, double, or triple step. Your algorithm should count the total number of possible ways you have available to go up the n steps. As an illustrative example. If the staircase only has three steps, there are 4 different  ways of going up:\n",
    "$$1,1,1$$\n",
    "$$1,2$$\n",
    "$$2,1$$\n",
    "$$3$$\n",
    "</li> </ol>"
   ]
  },
  {
   "cell_type": "code",
   "execution_count": null,
   "metadata": {},
   "outputs": [],
   "source": [
    "def countWaysUtil(n, m): \n",
    "    if n <= 1: \n",
    "        return n \n",
    "    res = 0\n",
    "    i = 1\n",
    "    while i<= m and i<= n: \n",
    "        res = res + countWaysUtil(n-i, m) \n",
    "        i = i + 1\n",
    "    return res \n",
    "      \n",
    "# Returns number of ways to reach s'th stair     \n",
    "def countWays(s, m): \n",
    "    return countWaysUtil(s + 1, m) \n",
    "      \n",
    "s, m = 3, 3\n",
    "print(f\"Number of ways = {countWays(s, m)}\" )\n",
    "  "
   ]
  },
  {
   "cell_type": "markdown",
   "metadata": {
    "collapsed": true
   },
   "source": [
    "Let's say you're working for a mega corporation with many business units. Each business unit has a candidate business opportunity to explore with an estimated cost and an associated potential profit. Furthermore, the corporation is constrained by a total budget. Let's code the data in the following manner:\n",
    "\n",
    "```\n",
    "profit = [120, 100, 60,10,50,90,100,80,40]\n",
    "cost = [90, 80, 30,3,15,20,50,60,30]\n",
    "Budget = 150\n",
    "\n",
    "```\n",
    "\n",
    "This means, business opportunity 1 costs 90 but will bring 120 in profit, Business opportunity 2, costs 80, but will bring 100 in profit... The last business opportunity costs 30 but will bring 40 in profit.\n",
    "\n",
    "<ol start=\"10\">\n",
    "<li>\n",
    "<b>(Hard)</b> Build a recursive algorithm that looks at possible combinations of business opportunities to implement in order to maximize the potential profit of the company. \n",
    "</li> </ol>\n",
    "Operate under the constraint that each business opportunity can either be exploited once or not at all. The company is not allowed to repeatedly exploit a business opportunity twice or more. That is, business opportunity 1, with a cost of 90 and a profit of 120, can either be exploited only once by your algorithm or not at all. But your algorithm cannot exploit this business opportunity twice or more times. Your algorithm should only output the total potential profit. You don't need to keep track of the specific combination of business opportunities.\n",
    "\n",
    "Hint: This problem is essentially a knapsack type of problem, a member of a family of problems that are classified as NP-Complete. NP-complete problems are particularly hard from a computational perspective because the only guaranteed way to solve them correctly is to use a brute force method where each candidate solution is tested one by one."
   ]
  },
  {
   "cell_type": "code",
   "execution_count": null,
   "metadata": {},
   "outputs": [],
   "source": [
    "val = [120, 100, 60,10,50,90,100,80,40]\n",
    "wt= [  90,   80, 30, 3,15,20, 50,60,30]\n",
    "W = 150\n",
    "n = len(val) \n",
    "\n",
    "    \n",
    "# We initialize the matrix with -1 at first. \n",
    "t = [[-1 for i in range(W + 1)] for j in range(n + 1)] \n",
    "  \n",
    "def knapSack(W, wt, val, n): \n",
    "    K = [[0 for x in range(W + 1)] for x in range(n + 1)] \n",
    "  \n",
    "    # Build table K[][] in bottom up manner \n",
    "    for i in range(n + 1): \n",
    "        for w in range(W + 1): \n",
    "            if i == 0 or w == 0: \n",
    "                K[i][w] = 0\n",
    "            elif wt[i-1] <= w: \n",
    "                K[i][w] = max(val[i-1]+K[i-1][w-wt[i-1]],  K[i-1][w]) \n",
    "            else: \n",
    "                K[i][w] = K[i-1][w] \n",
    "  \n",
    "    return K[n][W] \n",
    "  \n",
    "# Driver program to test above function \n",
    "\n",
    "print(knapSack(W, wt, val, n)) \n"
   ]
  },
  {
   "cell_type": "code",
   "execution_count": null,
   "metadata": {},
   "outputs": [],
   "source": []
  },
  {
   "cell_type": "markdown",
   "metadata": {},
   "source": [
    "## Dynamic programming\n",
    "\n",
    "<ol start=\"11\">\n",
    "<li>\n",
    "<b>(Hard)</b> Implement a dynamic programming algorithm that aligns 2 genetic sequences and determines the best global alignment.\n",
    "The scoring scheme to use is: match:1, mismatch:-2, gap:-1. Your algorithm should print out the total score of the alignment and the actual alignment.\n",
    "</li> \n",
    "</ol>\n",
    "\n",
    "```\n",
    "Sequence 1: CTTAGCATTAGCCGTAAACCGATGGATCGTCAATATACCGCG\n",
    "\n",
    "Sequence 2: CAGTAGCTTCAGCCTAGACCGAGGATCGAACAATATAACCCGCGCAT\n",
    "```\n"
   ]
  },
  {
   "cell_type": "code",
   "execution_count": null,
   "metadata": {},
   "outputs": [],
   "source": [
    "import numpy as np\n",
    "def GET_SCORE(n1, n2, mismatch = -2, reward = 1):\n",
    "     \n",
    "    if n1 == n2:\n",
    "        return reward\n",
    "    else:\n",
    "        return mismatch\n",
    " \n",
    " \n",
    "def global_alignment(X, Y):\n",
    "     \n",
    "    # initialize score matrix\n",
    "    score_matrix = np.ndarray((len(X) + 1, len(Y) + 1))\n",
    "    gap=-1 \n",
    "    for i in range(len(X) + 1):\n",
    "        score_matrix[i, 0] = gap * i\n",
    "     \n",
    "    for j in range(len(Y) + 1):\n",
    "        score_matrix[0, j] = gap * j\n",
    "         \n",
    "     \n",
    "    # define each cell in the matrix by as the max score possible in that stage\n",
    "    for i in range(1, len(X) + 1):\n",
    "        for j in range(1, len(Y) + 1):\n",
    "            match = score_matrix[i - 1, j - 1] + GET_SCORE(X[i - 1], Y[j - 1])\n",
    "            delete = score_matrix[i -1, j] + gap\n",
    "            insert = score_matrix[i, j - 1] + gap\n",
    "             \n",
    "            score_matrix[i, j] = max([match, delete, insert])\n",
    "             \n",
    "     \n",
    "    i = len(X)\n",
    "    j = len(Y)\n",
    "     \n",
    "    align_X = \"\"\n",
    "    align_Y = \"\"\n",
    "     \n",
    "    while i > 0 or j > 0:\n",
    "         \n",
    "        current_score = score_matrix[i, j]\n",
    "        left_score = score_matrix[i - 1, j]\n",
    "        up_score = score_matrix[i, j - 1]\n",
    "         \n",
    "         \n",
    "        if i > 0 and j > 0 and X[i - 1] == Y[j - 1]:\n",
    "            align_X = X[i - 1] + align_X\n",
    "            align_Y = Y[j - 1] + align_Y\n",
    "            i = i - 1\n",
    "            j = j - 1\n",
    "         \n",
    "        elif i > 0 and current_score == left_score + gap:\n",
    "            align_X = X[i - 1] + align_X\n",
    "            align_Y = \"-\" + align_Y\n",
    "            i = i - 1\n",
    "             \n",
    "        elif j > 0 and current_score == up_score + gap:\n",
    "            align_X = \"-\" + align_X\n",
    "            align_Y = Y[j - 1] + align_Y\n",
    "            j = j - 1\n",
    "        else:\n",
    "            align_X = X[i - 1] + align_X\n",
    "            align_Y = Y[j - 1] + align_Y\n",
    "            i = i - 1\n",
    "            j = j - 1\n",
    " \n",
    " \n",
    "    return align_X, align_Y,score_matrix"
   ]
  },
  {
   "cell_type": "code",
   "execution_count": null,
   "metadata": {},
   "outputs": [],
   "source": [
    "s1='CTTAGCATTAGCCGTAAACCGATGGATCGTCAATATACCGCG'\n",
    "\n",
    "s2= 'CAGTAGCTTCAGCCTAGACCGAGGATCGAACAATATAACCCGCGCAT'\n",
    "\n",
    "# s1='AGGG'\n",
    "# s2 = 'AGAG' \n",
    "a,b,c=global_alignment(s1,s2)\n",
    "print(a)\n",
    "print(b)\n",
    "#print(c)\n",
    "print(c[len(s1),len(s2)])"
   ]
  },
  {
   "cell_type": "code",
   "execution_count": null,
   "metadata": {},
   "outputs": [],
   "source": []
  },
  {
   "cell_type": "code",
   "execution_count": null,
   "metadata": {},
   "outputs": [],
   "source": []
  },
  {
   "cell_type": "markdown",
   "metadata": {},
   "source": [
    "## Linear algebra\n",
    "\n",
    "<ol start=\"12\">\n",
    "<li>\n",
    "A machine/company/organization is constrained by the following system of equations. Using the `numpy` linear algebra library, use the relevant <b>equation</b> to find the solution for $x,y,z$ that simultaneously satisfies all constraints imposed by the system below. Notice that simply calling the `solve` method of a library for solving systems of linear equations is not a valid answer. You need to computationally solve the equation yourself using matrix algebra.\n",
    "\n",
    "$$\n",
    "x + y + z = 25 \\\\\\\\\n",
    "5x + 3y + 2z = 0 \\\\\\\\\n",
    "y + -z = 6 \\\\\\\\\n",
    "$$\n",
    "</li> "
   ]
  },
  {
   "cell_type": "code",
   "execution_count": null,
   "metadata": {},
   "outputs": [],
   "source": [
    "import numpy as np\n",
    "A = np.array([[1,1,1], [5, 3,2],[0,1,-1]])\n",
    "b=np.array([25,0,6]) \n",
    "print(A)\n",
    "print(b)\n",
    "A_Inverse=np.linalg.inv(A)\n",
    "x = A_Inverse @ b\n",
    "print(f'x is {x[0]} y is {x[1]} z is {x[2]}')"
   ]
  },
  {
   "cell_type": "markdown",
   "metadata": {},
   "source": [
    "<ol start=\"13\">\n",
    "<li>\n",
    "Think about how to use linear algebra techniques to rotate an image by a small angle clockwise. This exercise is not trivial, a computer graphics library would carry out a number of subsequent operations to optimize the result: denoising filters, translation, interpolation, etc. for the purpose of this exercise, a rough rotation with loss of image quality and improper alignment should suffice. Check the example output I provide. That's all you need to achieve. Again, simply calling the rotate method of an image processing library is not enough. You need to algorithmically solve the problem using linear algebra.\n",
    "</li> </ol>"
   ]
  },
  {
   "cell_type": "code",
   "execution_count": null,
   "metadata": {},
   "outputs": [],
   "source": [
    "from matplotlib.image import imread\n",
    "%matplotlib\n",
    "image = imread('./images/ce.jpg')[:,:,0] #just getting the first of the 3 RGB channels\n",
    "print(image.shape, image.dtype)\n",
    "\n",
    "\n",
    "import matplotlib.pyplot as plt\n",
    "plt.figure(figsize=(9, 6))\n",
    "# Plot the grid\n",
    "plt.imshow(image)\n",
    "plt.gray()\n",
    "plt.show()"
   ]
  },
  {
   "cell_type": "markdown",
   "metadata": {},
   "source": [
    "This is the output you are supposed to get:\n",
    "\n",
    "![](./images/cer.png)"
   ]
  },
  {
   "cell_type": "code",
   "execution_count": null,
   "metadata": {
    "scrolled": true
   },
   "outputs": [],
   "source": [
    "import numpy as np\n",
    "imgm = np.array(image)"
   ]
  },
  {
   "cell_type": "code",
   "execution_count": null,
   "metadata": {},
   "outputs": [],
   "source": [
    "theta = np.radians(20)\n",
    "c, s = np.cos(theta), np.sin(theta)\n",
    "R = np.array(((c, -s), (s, c)))\n",
    "finalimgmat = np.zeros((500,500))\n",
    "\n",
    "for i in range(image.shape[0]):\n",
    "    for j in range(image.shape[1]):\n",
    "        fin = np.array([i,j]) @ R\n",
    "        x,y=np.ceil(fin)\n",
    "        x,y = int(x),int(y)\n",
    "        if y < 0:\n",
    "            y=y+225\n",
    "        finalimgmat[x,y] = imgm[i,j]\n"
   ]
  },
  {
   "cell_type": "code",
   "execution_count": null,
   "metadata": {},
   "outputs": [],
   "source": [
    "%matplotlib\n",
    "plt.imshow(finalimgmat)\n",
    "plt.gray()\n",
    "plt.show()"
   ]
  },
  {
   "cell_type": "markdown",
   "metadata": {},
   "source": [
    "<ol start=\"14\">\n",
    "<li>\n",
    "Create a mirror representation of the following image using the appropriate modification to the solution above.\n",
    "</li></ol>"
   ]
  },
  {
   "cell_type": "code",
   "execution_count": null,
   "metadata": {},
   "outputs": [],
   "source": [
    "import imageio\n",
    "from scipy import misc\n",
    "\n",
    "image = imageio.imread('./images/ce.jpg')[:,:,0]\n",
    "\n",
    "print(image.shape, image.dtype)\n",
    "\n",
    "import matplotlib.pyplot as plt\n",
    "# Plot the grid\n",
    "plt.imshow(image)\n",
    "plt.gray()\n",
    "plt.show()"
   ]
  },
  {
   "cell_type": "markdown",
   "metadata": {},
   "source": [
    "This is the output you are supposed to get:\n",
    "\n",
    "![](./images/cem.png)"
   ]
  },
  {
   "cell_type": "code",
   "execution_count": null,
   "metadata": {},
   "outputs": [],
   "source": [
    "imgm = np.array(image)\n",
    "flipped = imgm[:,::-1]\n",
    "\n",
    "plt.imshow(flipped)\n",
    "plt.gray()\n",
    "plt.show()"
   ]
  },
  {
   "cell_type": "markdown",
   "metadata": {},
   "source": [
    "<ol start=\"15\">\n",
    "<li>\n",
    "A company is trying to an optimization problem subjected to the following constraints. Try to solve for $x,y,z$ and if it is not possible, try to find the closest optimal point. Do not call a method for finding the least-squares solutions. The least-squares solutions is just one application of many that the concept asked for in this question allows.\n",
    "\n",
    "$$\n",
    "x +  z = 1 \\\\\\\\\n",
    "x + y + z = 2 \\\\\\\\\n",
    "x + -y + z = 1 \\\\\\\\\n",
    "$$\n",
    "</li> </ol>"
   ]
  },
  {
   "cell_type": "code",
   "execution_count": null,
   "metadata": {},
   "outputs": [],
   "source": [
    "import numpy as np\n",
    "A = np.array( [[1,0,1]\n",
    "              ,[1,1,1]\n",
    "              ,[1,-1,1]])\n",
    "b=np.array([[1],[2],[1]]) \n",
    "A_plus = np.linalg.pinv(A)\n",
    "A_plus\n"
   ]
  },
  {
   "cell_type": "code",
   "execution_count": null,
   "metadata": {},
   "outputs": [],
   "source": [
    "res = A_plus.dot(b)\n",
    "print(f'x ~= {res[0]} y ~= {res[1]} z ~= {res[2]} ')\n",
    "res"
   ]
  },
  {
   "cell_type": "markdown",
   "metadata": {},
   "source": [
    "<ol start=\"16\">\n",
    "<li>\n",
    "Let's say the following quadratic function $Cost=2x^2+(3+4)xy+5y^2$ represents a financial cost that your organization obviously wants to minimize. Use eigenvalue decomposition to find the minimum value of the function and its corresponding coordinates. Explicitly indicate what is the minimum in your solution and its corresponding coordinates. Obviously, this problem is trivial in 3D since you can visually inspect the function in order to estimate the optimal minimum. In real problems, equations that describe complex systems can easily hold dozens or hundreds of variables. Visualization in those situations is not possible. Hence, the need for optimization algorithms.\n",
    "</li> </ol>"
   ]
  },
  {
   "cell_type": "code",
   "execution_count": null,
   "metadata": {},
   "outputs": [],
   "source": [
    "%matplotlib\n",
    "import numpy as np\n",
    "from mpl_toolkits.mplot3d import Axes3D\n",
    "import matplotlib.pyplot as plt\n",
    "import random\n",
    "\n",
    "def fun(x, y):\n",
    "    return 2*x**2 + (3+4)*x*y + 5*y**2\n",
    "    #return 6*x**2 + (1+2)*x*y + 5*y**2\n",
    "fig = plt.figure(figsize=(8, 6))\n",
    "ax = fig.add_subplot(111, projection='3d')\n",
    "x = y = np.arange(-3.0, 3.0, 0.05)\n",
    "X, Y = np.meshgrid(x, y)\n",
    "zs = np.array([fun(x,y) for x,y in zip(np.ravel(X), np.ravel(Y))])\n",
    "Z = zs.reshape(X.shape)\n",
    "\n",
    "ax.plot_surface(X, Y, Z,cmap='summer')\n",
    "\n",
    "ax.set_xlabel('x')\n",
    "ax.set_ylabel('y')\n",
    "ax.set_zlabel('Cost')\n",
    "ax.scatter(-0.7968120, 0.60422718,fun(-0.7968120, 0.60422718))\n",
    "ax.view_init(azim=20,elev=20)\n",
    "plt.show()"
   ]
  },
  {
   "cell_type": "code",
   "execution_count": null,
   "metadata": {},
   "outputs": [],
   "source": [
    "from numpy import linalg as LA\n",
    "A = np.array([[2, 3], [4, 5]])\n",
    "eigVals, eigVecs = np.linalg.eig(A)\n",
    "eigVals"
   ]
  },
  {
   "cell_type": "code",
   "execution_count": null,
   "metadata": {
    "scrolled": true
   },
   "outputs": [],
   "source": [
    "eigVecs"
   ]
  },
  {
   "cell_type": "code",
   "execution_count": null,
   "metadata": {},
   "outputs": [],
   "source": [
    "#the lowerest eigenvalue is -0.27491722 and the corresponding eigen vector for the lower value is -0.79681209 for x and  0.60422718 for y"
   ]
  },
  {
   "cell_type": "markdown",
   "metadata": {},
   "source": [
    "# Singular Value Decomposition as a data compression algorithm \n",
    "\n",
    "SVD can be used to extract the more important features from an image. Let's start by loading an image in python and convert it to a Numpy array. The shape of the matrix corresponds to the dimension of the image filled with intensity values: 1 cell per pixel."
   ]
  },
  {
   "cell_type": "code",
   "execution_count": null,
   "metadata": {},
   "outputs": [],
   "source": [
    "from PIL import Image\n",
    "\n",
    "plt.style.use('classic')\n",
    "img = Image.open('./images/dog.jpg')\n",
    "# convert image to grayscale\n",
    "imggray = img.convert('LA')\n",
    "# convert to numpy array\n",
    "imgmat = np.array(list(imggray.getdata(band=0)), float)\n",
    "# Reshape according to orginal image dimensions\n",
    "imgmat.shape = (imggray.size[1], imggray.size[0])\n",
    "\n",
    "plt.figure(figsize=(9, 6))\n",
    "plt.imshow(imgmat, cmap='gray')\n",
    "plt.show()\n",
    "imgmat.shape"
   ]
  },
  {
   "cell_type": "markdown",
   "metadata": {},
   "source": [
    "<ol start=\"17\">\n",
    "<li>\n",
    "Carry out singular value decomposition on the image above and reconstruct the image using only the top 50 singular vector components. What compression ratio have you achieved?\n",
    "</li></ol>\n"
   ]
  },
  {
   "cell_type": "code",
   "execution_count": null,
   "metadata": {
    "scrolled": true
   },
   "outputs": [],
   "source": [
    "U, D, V = np.linalg.svd(imgmat)\n",
    "U,D,V"
   ]
  },
  {
   "cell_type": "code",
   "execution_count": null,
   "metadata": {},
   "outputs": [],
   "source": [
    "k=50\n",
    "compressed_img = np.matrix(U[:,:k])*np.diag(D[:k])*np.matrix(V[:k,:])\n",
    "plt.figure(figsize=(9, 6))\n",
    "plt.imshow(compressed_img, cmap='gray')\n",
    "plt.show()"
   ]
  },
  {
   "cell_type": "markdown",
   "metadata": {},
   "source": [
    "<ol start=\"18\">\n",
    "\n",
    "<li>\n",
    "The following plot shows in red the desire quantitative state of a machine or environmental variable (y axis) over time (x axis). In blue is the quantitative metric monitoring the machine or environmental variable. Improve the performance of the machine by implementing a better version of the Proportional–Integral-Derivative (PID) Controller so that the environmental estate comes (blue) resembles as close as possible the desired set state (red).</li>    "
   ]
  },
  {
   "cell_type": "code",
   "execution_count": null,
   "metadata": {
    "scrolled": true
   },
   "outputs": [],
   "source": [
    "import numpy as np\n",
    "import matplotlib\n",
    "from matplotlib import pyplot as plt\n",
    "%matplotlib inline\n",
    "\n",
    "from utils import Plant # simulator\n",
    "\n",
    "class PIDController(object):\n",
    "    \n",
    "    def __init__(self, Kp=0.0, Ki=0.0, Kd=0.0):\n",
    "        self.Kp = Kp\n",
    "        self.Ki = Ki\n",
    "        self.Kd = Kd\n",
    "        self.previous = 0\n",
    "        self.accumulatedError = 0\n",
    "        \n",
    "    def update(self, error, delta_t):\n",
    "        self.accumulatedError += error\n",
    "        \n",
    "        p = self.Kp * error\n",
    "        i = self.Ki * self.accumulatedError * delta_t\n",
    "        d = self.Kd * (error - self.previous) / delta_t\n",
    "        \n",
    "        response = p + i + d\n",
    "        \n",
    "        self.previous = error\n",
    "        return response\n",
    "\n",
    "Kp = 0.9 #tune me!\n",
    "Ki = 0.32 #tune me!\n",
    "Kd = 0.7 #tune me!\n",
    "controller = PIDController(Kp, Ki, Kd)\n",
    "\n",
    "plant = Plant(controller, set_shift=False,noise=False)\n",
    "plant.simulate()"
   ]
  },
  {
   "cell_type": "code",
   "execution_count": null,
   "metadata": {},
   "outputs": [],
   "source": []
  },
  {
   "cell_type": "markdown",
   "metadata": {},
   "source": [
    "# Singular Value Decomposition to build a Recommendation engine\n",
    "\n",
    "Let's say you have the following data set of the ranking different users have given to different movies on online streaming service. A 0 means that the user has not watched the movie. A 1 means that the user didn't like the movie very much. A 5 means that the user liked the movie a lot. Every number in between indicates the degree of likeness of the movie."
   ]
  },
  {
   "cell_type": "code",
   "execution_count": null,
   "metadata": {},
   "outputs": [],
   "source": [
    "import numpy as np\n",
    "M = np.array([\n",
    "    [1, 1, 1, 0, 0],\n",
    "    [3, 3, 3, 0, 0],\n",
    "    [4, 4, 4, 0, 0],\n",
    "    [5, 5, 5, 0, 0],\n",
    "    [0, 2, 0, 4, 4],\n",
    "    [0, 0, 0, 5, 5],\n",
    "    [0, 1, 0, 2, 2]])"
   ]
  },
  {
   "cell_type": "code",
   "execution_count": null,
   "metadata": {},
   "outputs": [],
   "source": [
    "import pandas as pd\n",
    "I = pd.Index([\"Paul\", \"Robert\", \"Peter\", \"Susan\",\"Maria\",\"Sarah\",\"Tom\"], name=\"rows\")\n",
    "C = pd.Index([\"Matrix mega ultra super reloaded\", \"Nonstop car chases\", \"Predatory vs Alien vs Terminator\", \n",
    "              \"Love at first sight in Dunedin\", \"Love is all you need\"], name=\"columns\")\n",
    "df = pd.DataFrame(data=M, index=I, columns=C)\n",
    "df"
   ]
  },
  {
   "cell_type": "markdown",
   "metadata": {},
   "source": [
    "<ol start=\"19\">\n",
    "\n",
    "<li>\n",
    "Let's say you have 2 new users (*u1* and *u2*) of your service that only watched a few of the movies and provided the following liking ratings:\n",
    "    \n",
    "```\n",
    "u1 = np.array([0,5,4,0,0])\n",
    "u2 = np.array([1,1,0,5,0])  \n",
    "```\n",
    "\n",
    "We also have 2 new movies that have already been rated by a few users:\n",
    "``` \n",
    "m1 = np.array([0,5,0,0,1,0,1])\n",
    "m2 = np.array([1,0,1,0,5,0,1])\n",
    "```\n",
    "</li>    \n",
    "Your task is:\n",
    "\n",
    "- quantify how much each of these users would like action movies and how much they would like romance movies:\n",
    "- quantify whether each of the new movies is an action film or a romance film"
   ]
  },
  {
   "cell_type": "code",
   "execution_count": null,
   "metadata": {},
   "outputs": [],
   "source": [
    "U, D, V = np.linalg.svd(M)\n",
    "U, D, V \n"
   ]
  },
  {
   "cell_type": "code",
   "execution_count": null,
   "metadata": {},
   "outputs": [],
   "source": [
    "V[:1,:]"
   ]
  },
  {
   "cell_type": "code",
   "execution_count": null,
   "metadata": {
    "scrolled": true
   },
   "outputs": [],
   "source": [
    "from sklearn.metrics.pairwise import cosine_similarity\n",
    "u1 = np.array([[0,5,4,0,0]])\n",
    "u2 = np.array([[1,1,0,5,0]]) \n",
    "m1 = np.array([[0,5,0,0,1,0,1]])\n",
    "m2 = np.array([[1,0,1,0,5,0,1]])\n",
    "print(f'Similarity between user 1 and action movie {cosine_similarity(abs(V[:1,:]), u1)}')\n",
    "print(f'Similarity between user 1 and romance movie {cosine_similarity(abs(V[1:2,:]), u1)}')\n",
    "print('We can see that user 1 have a higher value with action movie than romance movie which means user 1 likes action movie more\\n')\n",
    "print(f'Similarity between user 2 and action movie {cosine_similarity(abs(V[:1,:]), u2)}')\n",
    "print(f'Similarity between user 2 and romance movie {cosine_similarity(abs(V[1:2,:]), u2)}')\n",
    "print('We can see that user 2 have a higher value with romance movie than action movie which means user 1 likes romance movie more\\n')\n",
    "print(f'Similarity between movie 1 and user who likes action {cosine_similarity(abs(U[:,:1].reshape(1,-1)), m1)}')\n",
    "print(f'Similarity between movie 1 and user who likes romance {cosine_similarity(abs(U[:,1:2].reshape(1,-1)), m1)}')\n",
    "print('We can see that movie 1 score is higher for people who likes action movie than romance movie, we can say that movie 1 is an action movie\\n')\n",
    "print(f'Similarity between movie 2 and user who likes action {cosine_similarity(abs(U[:,:1].reshape(1,-1)), m2)}')\n",
    "print(f'Similarity between movie 2 and user who likes romance {cosine_similarity(abs(U[:,1:2].reshape(1,-1)), m2)}')\n",
    "print('We can see that movie 2 score is higher for people who like romance movie than action movie, we can say that movie 1 is a romance movie\\n')"
   ]
  },
  {
   "cell_type": "markdown",
   "metadata": {},
   "source": [
    "## Artificial neural networks"
   ]
  },
  {
   "cell_type": "markdown",
   "metadata": {},
   "source": [
    "Artificial neuron networks are the most powerful and successful learning algorithm that exists. In this exercise you will implement a neural network model that is trained to recognize images of handwritten digits.\n",
    "\n",
    "Let's load a famous data set of black and white 70,000 images of handwritten digits. The data set is divided into three subsets (train, validation and test sets) as custom practice in machine learning applications. Don't worry too much about the details of the data set, the focus of this exercise is on implementing the learning algorithm. "
   ]
  },
  {
   "cell_type": "code",
   "execution_count": 1,
   "metadata": {},
   "outputs": [],
   "source": [
    "import matplotlib.pyplot as plt\n",
    "import mnist_loader\n",
    "import random\n",
    "import numpy as np\n",
    "from sklearn.utils import shuffle\n",
    "\n",
    "training_data, validation_data, test_data = mnist_loader.load_data_wrapper()\n",
    "X_train,y_train=zip(*training_data)\n",
    "X_validation,y_validation=zip(*validation_data)\n",
    "X_test,y_test=zip(*test_data)\n"
   ]
  },
  {
   "cell_type": "markdown",
   "metadata": {},
   "source": [
    "It is easy to visualize an image of the data set"
   ]
  },
  {
   "cell_type": "code",
   "execution_count": 1,
   "metadata": {},
   "outputs": [
    {
     "ename": "NameError",
     "evalue": "name 'X_train' is not defined",
     "output_type": "error",
     "traceback": [
      "\u001b[1;31m---------------------------------------------------------------------------\u001b[0m",
      "\u001b[1;31mNameError\u001b[0m                                 Traceback (most recent call last)",
      "\u001b[1;32m<ipython-input-1-9c0badffab9d>\u001b[0m in \u001b[0;36m<module>\u001b[1;34m\u001b[0m\n\u001b[0;32m      1\u001b[0m \u001b[0mdataIntanceIndex\u001b[0m\u001b[1;33m=\u001b[0m\u001b[1;36m0\u001b[0m\u001b[1;33m\u001b[0m\u001b[1;33m\u001b[0m\u001b[0m\n\u001b[1;32m----> 2\u001b[1;33m \u001b[0mx\u001b[0m \u001b[1;33m=\u001b[0m \u001b[0mX_train\u001b[0m\u001b[1;33m[\u001b[0m\u001b[0mdataIntanceIndex\u001b[0m\u001b[1;33m]\u001b[0m\u001b[1;33m\u001b[0m\u001b[1;33m\u001b[0m\u001b[0m\n\u001b[0m\u001b[0;32m      3\u001b[0m \u001b[0mpixels\u001b[0m \u001b[1;33m=\u001b[0m \u001b[0mnp\u001b[0m\u001b[1;33m.\u001b[0m\u001b[0marray\u001b[0m\u001b[1;33m(\u001b[0m\u001b[0mx\u001b[0m\u001b[1;33m,\u001b[0m \u001b[0mdtype\u001b[0m\u001b[1;33m=\u001b[0m\u001b[1;34m'float'\u001b[0m\u001b[1;33m)\u001b[0m\u001b[1;33m\u001b[0m\u001b[1;33m\u001b[0m\u001b[0m\n\u001b[0;32m      4\u001b[0m \u001b[0mpixels\u001b[0m \u001b[1;33m=\u001b[0m \u001b[0mpixels\u001b[0m\u001b[1;33m.\u001b[0m\u001b[0mreshape\u001b[0m\u001b[1;33m(\u001b[0m\u001b[1;33m(\u001b[0m\u001b[1;36m28\u001b[0m\u001b[1;33m,\u001b[0m \u001b[1;36m28\u001b[0m\u001b[1;33m)\u001b[0m\u001b[1;33m)\u001b[0m\u001b[1;33m\u001b[0m\u001b[1;33m\u001b[0m\u001b[0m\n\u001b[0;32m      5\u001b[0m \u001b[0mplt\u001b[0m\u001b[1;33m.\u001b[0m\u001b[0mimshow\u001b[0m\u001b[1;33m(\u001b[0m\u001b[0mpixels\u001b[0m\u001b[1;33m,\u001b[0m \u001b[0mcmap\u001b[0m\u001b[1;33m=\u001b[0m\u001b[1;34m'gray'\u001b[0m\u001b[1;33m)\u001b[0m\u001b[1;33m\u001b[0m\u001b[1;33m\u001b[0m\u001b[0m\n",
      "\u001b[1;31mNameError\u001b[0m: name 'X_train' is not defined"
     ]
    }
   ],
   "source": [
    "dataIntanceIndex=0\n",
    "x = X_train[dataIntanceIndex]\n",
    "pixels = np.array(x, dtype='float')\n",
    "pixels = pixels.reshape((28, 28))\n",
    "plt.imshow(pixels, cmap='gray')\n",
    "plt.show()"
   ]
  },
  {
   "cell_type": "markdown",
   "metadata": {},
   "source": [
    "This data set is labeled, that is for each image we have a label of what the did the image represents. The labels are encoded as vectors, where each position in the vector identifies a particular digit (i.e. index 0 identifies the number zero, index 1 identifies the number zero, etc."
   ]
  },
  {
   "cell_type": "code",
   "execution_count": null,
   "metadata": {},
   "outputs": [],
   "source": [
    "y=y_train[dataIntanceIndex]\n",
    "print(y)"
   ]
  },
  {
   "cell_type": "markdown",
   "metadata": {},
   "source": [
    "It is easy to identify what digit the above vector represents"
   ]
  },
  {
   "cell_type": "code",
   "execution_count": null,
   "metadata": {},
   "outputs": [],
   "source": [
    "print(np.argmax(y))"
   ]
  },
  {
   "cell_type": "markdown",
   "metadata": {},
   "source": [
    "The `ANN` class below is a partial implementation of an Artificial Neural Network. The code is not optimized for speed but rather for readability. You are asked to complete the implementation of the neural network by coding the following functionality:\n",
    "\n",
    "<ol start=\"20\">\n",
    "<li>Implement the sigmoid function using the numpy library to vectorize (i.e. accelerate) computation </li>"
   ]
  },
  {
   "cell_type": "markdown",
   "metadata": {},
   "source": [
    "<ol start=\"21\">\n",
    "<li>Implement the  appropriate methods calls to carry out the Gradient descent algorithm </li>    "
   ]
  },
  {
   "cell_type": "markdown",
   "metadata": {},
   "source": [
    "<ol start=\"22\">\n",
    "<li>Implement the `feedForwardInputSignal` method </li>    "
   ]
  },
  {
   "cell_type": "markdown",
   "metadata": {},
   "source": [
    "<ol start=\"23\">\n",
    "<li><b>(Hard)</b> Implement the `backpropagateErrorSignal`, `calculateGradientmethod` and `updateWeights` methods. if you get it right, after training you should get a prediction accuracy on the validation set above 90% </li>    "
   ]
  },
  {
   "cell_type": "code",
   "execution_count": 2,
   "metadata": {
    "scrolled": true
   },
   "outputs": [
    {
     "name": "stdout",
     "output_type": "stream",
     "text": [
      "10000\n",
      "9063\n",
      "937\n",
      "Epoch 0: 0.9063% accuracy \n",
      "10000\n",
      "9216\n",
      "784\n",
      "Epoch 1: 0.9216% accuracy \n",
      "10000\n",
      "9321\n",
      "679\n",
      "Epoch 2: 0.9321% accuracy \n",
      "10000\n",
      "9363\n",
      "637\n",
      "Epoch 3: 0.9363% accuracy \n",
      "10000\n",
      "9376\n",
      "624\n",
      "Epoch 4: 0.9376% accuracy \n",
      "10000\n",
      "9453\n",
      "547\n",
      "Epoch 5: 0.9453% accuracy \n",
      "10000\n",
      "9465\n",
      "535\n",
      "Epoch 6: 0.9465% accuracy \n",
      "10000\n",
      "9482\n",
      "518\n",
      "Epoch 7: 0.9482% accuracy \n",
      "10000\n",
      "9503\n",
      "497\n",
      "Epoch 8: 0.9503% accuracy \n",
      "10000\n",
      "9475\n",
      "525\n",
      "Epoch 9: 0.9475% accuracy \n"
     ]
    }
   ],
   "source": [
    "#SOLUTION\n",
    "\n",
    "\n",
    "class ANN(object):\n",
    "    def __init__(self, sizes):\n",
    "        \"\"\"The list ``sizes`` contains the number of neurons in each layer of the network. For example, if the list ``sizes``\n",
    "        is [2, 3, 1] then it would be a three-layer network, with the input layer containing 2 neurons, the second layer 3 neurons,\n",
    "        and the third layer 1 neuron.  The weights for the network are initialized with random values\"\"\"\n",
    "        self.num_layers = len(sizes)\n",
    "        self.sizes = sizes\n",
    "        self.weights_W = [np.random.randn(numberOfRows,numberOfColumns) for numberOfColumns, numberOfRows in zip(sizes[:-1], sizes[1:])]\n",
    "        self.inputs_Z=[np.zeros(w.shape) for w in self.weights_W]\n",
    "        self.activations_A=[np.zeros(w.shape) for w in self.weights_W]\n",
    "        self.deltas_D = [np.zeros(w.shape) for w in self.weights_W]\n",
    "        self.gradients_G = [np.zeros(w.shape) for w in self.weights_W]\n",
    "\n",
    "                \n",
    "    def sigmoid(self,z): #sigmoid function\n",
    "        return 1/(1 + np.exp(-z)) \n",
    "\n",
    "    def sigmoid_prime(self,z): # Derivative of the sigmoid function\n",
    "        return self.sigmoid(z)*(1-self.sigmoid(z))        \n",
    "    \n",
    "    def train(self, X_train, y_train, X_validation,y_validation, epochs, eta):\n",
    "        self.eta = eta\n",
    "        for epoch in range(epochs):\n",
    "            X_train, y_train = shuffle(np.array(X_train), np.array(y_train))\n",
    "            self.carryOutGradientDescent(X_train, y_train, X_validation,y_validation, epoch)\n",
    "\n",
    "    def carryOutGradientDescent(self, X_train, y_train, X_validation,y_validation, epoch): \n",
    "        \n",
    "        ####-----------------\n",
    "        nabla_w = [np.zeros(w.shape) for w in self.weights_W]\n",
    "        \n",
    "        \n",
    "        for i in range(len(X_train)):\n",
    "            zs,activations = self.feedForwardInputSignal(X_train[i])\n",
    "            delta_nabla_w = self.backpropagateErrorSignal(X_train[i],y_train[i],zs,activations)\n",
    "            self.updateWeights(X_train[i],y_train[i],delta_nabla_w)\n",
    "        ####-----------------\n",
    "        \n",
    "        accuracy=self.evaluate(X_validation,y_validation)\n",
    "        print(f\"Epoch {epoch}: {accuracy}% accuracy \")        \n",
    "\n",
    "        \n",
    "        \n",
    "        \n",
    "    def feedForwardInputSignal(self, x):\n",
    "        \"\"\"Return the output of the network given network input x\"\"\"\n",
    "        activation=x\n",
    "        activations= [x]\n",
    "        self.activations_A = [x] # list to store all the activations, layer by layer\n",
    "        #abit misleading if activation_A without any specified layers will equal to 748\n",
    "        \n",
    "        \n",
    "        zs = [] \n",
    "        ####-----------------\n",
    "\n",
    "        for w in self.weights_W:\n",
    "            \n",
    "            z = np.dot(w, activation)\n",
    "            zs.append(z)\n",
    "            \n",
    "            activation = self.sigmoid(z)\n",
    "            activations.append(activation)\n",
    "        \n",
    "        \n",
    "\n",
    "#         z= np.dot(self.weights_W[0],activation)\n",
    "#         print(self.inputs_Z[0].shape)\n",
    "#         self.inputs_Z[0].append(z)\n",
    "        \n",
    "#         activation = self.sigmoid(z)\n",
    "#         self.activations_A[0].append(activation)\n",
    "        \n",
    "#         z= np.dot(self.weights_W[1],activation)\n",
    "#         self.inputs_Z[1].append(z)\n",
    "#         print(z.shape)\n",
    "#         activation = self.sigmoid(z)\n",
    "#         self.activations_A[1].append(activation)\n",
    "        \n",
    "        ####-----------------\n",
    "\n",
    "        return zs,activations\n",
    "              \n",
    "        \n",
    "    \n",
    "    def backpropagateErrorSignal(self, x, y,zs,activations):\n",
    "        # backward pass\n",
    "\n",
    "        #self.deltas_D[-1] = self.cost_derivative(activations[-1], y) * self.sigmoid_prime(zs[-1])\n",
    "    \n",
    "        delta = self.cost_derivative(activations[-1], y) * self.sigmoid_prime(zs[-1])\n",
    "        \n",
    "        \n",
    "        nabla_w = [np.zeros(w.shape) for w in self.weights_W]\n",
    "        nabla_w[-1] = np.dot(delta, activations[-2].transpose())\n",
    "        \n",
    "        \n",
    "        for l in range(2, self.num_layers):\n",
    "        ####-----------------\n",
    "            \n",
    "            z = zs[-l]#(30,1)\n",
    "            sp = self.sigmoid_prime(z)\n",
    "            delta = np.dot(self.weights_W[-l+1].transpose(),delta) * sp \n",
    "            #nabla_w[-l] = np.dot(delta, activations[-l-1].transpose())\n",
    "            nabla_w[-l] = self.calculateGradient(delta,activations[-l-1])\n",
    "            \n",
    "        return nabla_w\n",
    "            \n",
    "        ####-----------------\n",
    "    \n",
    "    def calculateGradient(self,layer_delta,layer_activation):\n",
    "        ####-----------------\n",
    "        weight_gradients = np.dot(layer_delta, layer_activation.transpose())\n",
    "        return weight_gradients\n",
    "        ####-----------------\n",
    "\n",
    "    def updateWeights(self,X_train,y_train,nabla_w):\n",
    "        ####-----------------\n",
    "        self.weights_W = [w-(self.eta)*nw\n",
    "                        for w, nw in zip(self.weights_W, nabla_w)]\n",
    "        ####-----------------\n",
    "\n",
    "    def predict(self,x):\n",
    "        \"\"\"Note that the neural network's output is assumed to be the index of whichever neuron in the final layer has the highest activation.\"\"\"\n",
    "        prediction = np.argmax(self.feedforward(x))\n",
    "        return prediction\n",
    "            \n",
    "    def evaluate(self, X_validation, y_validation):\n",
    "        correctPredictions=0\n",
    "        incorrect=0\n",
    "        for xIndex, x in enumerate(X_validation):\n",
    "            y = y_validation[xIndex]\n",
    "            prediction = self.predict(x)\n",
    "            if prediction==y:\n",
    "                correctPredictions+=1\n",
    "            else:\n",
    "                incorrect+=1\n",
    "        accuracy = correctPredictions/len(X_validation)\n",
    "        return accuracy\n",
    "\n",
    "    def feedforward(self, a):\n",
    "        \"\"\"Return the output of the network if ``a`` is input.\"\"\"\n",
    "        for w in self.weights_W:\n",
    "            a = self.sigmoid(np.dot(w, a))\n",
    "        return a\n",
    "    \n",
    "    \n",
    "    def cost_derivative(self, output_activations, y):\n",
    "        \"\"\"Return the vector of partial derivatives \\partial C_x \\partial a for the output activations.\"\"\"\n",
    "        return (output_activations-y)\n",
    "\n",
    "#Training the network    \n",
    "nn = ANN([784, 30, 10])\n",
    "nn.train(X_train,y_train,X_validation,y_validation, epochs=10, eta=0.3)        "
   ]
  },
  {
   "cell_type": "markdown",
   "metadata": {},
   "source": [
    "### Deliverables\n",
    "\n",
    "<ol start=\"24\">\n",
    "\n",
    "<li> You should hand in this python notebook file (.ipynb) containing all the necessary code to answer each of the previously enumerated tasks. Answer each question in its corresponding code cell. Use comments also to provide answers to questions expecting a natural language answer. If relevant for the task, after you implement a solution to a problem, include a bit of additional code to test/demonstrate that your solution works. Please, make sure your code runs smoothly so I can execute it in my computer. Name your Python notebook according to the following pattern: `yourLastName_ADS_A1.ipynb`. Create your own private repository for you to work on the assignment by using the following link: <a href=\"https://classroom.github.com/a/G6OYC4Xe\">https://classroom.github.com/a/G6OYC4Xe</a>. I will subsequently fetch the repository you create on the date the assignment is due. \n",
    "</li></ol>"
   ]
  }
 ],
 "metadata": {
  "anaconda-cloud": {},
  "kernelspec": {
   "display_name": "Python 3",
   "language": "python",
   "name": "python3"
  },
  "language_info": {
   "codemirror_mode": {
    "name": "ipython",
    "version": 3
   },
   "file_extension": ".py",
   "mimetype": "text/x-python",
   "name": "python",
   "nbconvert_exporter": "python",
   "pygments_lexer": "ipython3",
   "version": "3.7.4"
  }
 },
 "nbformat": 4,
 "nbformat_minor": 1
}
